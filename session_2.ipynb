{
 "cells": [
  {
   "cell_type": "code",
   "execution_count": 2,
   "id": "d6f4d3ad",
   "metadata": {},
   "outputs": [
    {
     "data": {
      "text/plain": [
       "'song thrush'"
      ]
     },
     "execution_count": 2,
     "metadata": {},
     "output_type": "execute_result"
    }
   ],
   "source": [
    "#lists\n",
    "\n",
    "# Lists -> store lists of things\n",
    "# store lists of columns, lists of allowed gender codes or placement codes\n",
    "# use those to clean up tabular data \n",
    "\n",
    "birds_1 = [\"pied wagtail\", \"carrion crow\", [\"blackbird\", \"song thrush\"]]\n",
    "\n",
    "thrushes = birds_1[-1][-1]\n",
    "\n",
    "thrushes"
   ]
  },
  {
   "cell_type": "code",
   "execution_count": 3,
   "id": "56d28cd5",
   "metadata": {},
   "outputs": [
    {
     "name": "stdout",
     "output_type": "stream",
     "text": [
      "['pied wagtail', 'carrion crow', ['blackbird', 'song thrush']]\n",
      "['pied wagtail', 'carrion crow', ['blackbird', 'song thrush'], 'jay']\n",
      "['pied wagtail', 'carrion crow', ['blackbird', 'song thrush'], 'jay', ['dunlin', 'ringed plover']]\n",
      "['pied wagtail', 'carrion crow', ['blackbird', 'song thrush'], 'jay', ['dunlin', 'ringed plover'], 'dunlin', 'ringed plover']\n"
     ]
    }
   ],
   "source": [
    "#extend and #append\n",
    "\n",
    "birds_1 = [\"pied wagtail\", \"carrion crow\", [\"blackbird\", \"song thrush\"]]\n",
    "print(birds_1)\n",
    "\n",
    "birds_1.append(\"jay\") # mutates\n",
    "print(birds_1)\n",
    "\n",
    "birds_2 = [\"dunlin\", \"ringed plover\"]\n",
    "\n",
    "birds_1.append(birds_2) # adds stuff to lists as a single element\n",
    "print(birds_1)\n",
    "\n",
    "birds_1.extend(birds_2) # adds iterables as individual elements\n",
    "print(birds_1)"
   ]
  },
  {
   "cell_type": "code",
   "execution_count": 4,
   "id": "53d7f0d1",
   "metadata": {},
   "outputs": [
    {
     "data": {
      "text/plain": [
       "[('Summer', 'cuckoo'),\n",
       " ('Autumn', 'wheatear'),\n",
       " ('Spring', {'Early': ['sand martin', 'wheatear'], 'Late': 'swift'})]"
      ]
     },
     "execution_count": 4,
     "metadata": {},
     "output_type": "execute_result"
    }
   ],
   "source": [
    "#dictionary\n",
    "\n",
    "# key : value\n",
    "# keys MUSt be immuatable not mutatable -> keys must be either a string or a number\n",
    "\n",
    "fav_birds = {\"Summer\":\"cuckoo\", \n",
    "               \"Autumn\":\"wheatear\",\n",
    "               \"Spring\":{\"Early\":[\"sand martin\", \"wheatear\"],\n",
    "                         \"Late\":\"swift\"}}\n",
    "\n",
    "# type(fav_colours)\n",
    "\n",
    "fav_birds[\"Summer\"] # accessing dicitonaries by key\n",
    "\n",
    "fav_birds[\"Spring\"][\"Early\"][0] # accessing nested elements\n",
    "\n",
    "list(fav_birds.keys())\n",
    "\n",
    "list(fav_birds.values())\n",
    "\n",
    "list(fav_birds.items()) # returns tuples\n",
    "\n",
    "# make a dictionary of restaurants with keys being the name and values being the foods,\n",
    "# make sure at least one value is a list of foods, and another is a dicitonary of days and foods\n",
    "# use the keys, vlaues, and items methods to views those"
   ]
  },
  {
   "cell_type": "code",
   "execution_count": 5,
   "id": "d129281a",
   "metadata": {},
   "outputs": [
    {
     "name": "stdout",
     "output_type": "stream",
     "text": [
      "{'Summer': 'cuckoo', 'Autumn': ['wheatear', 'little plover'], 'Spring': {'Early': ['sand martin', 'wheatear'], 'Late': 'swift'}, 'Winter': 'Avocet'}\n",
      "True\n"
     ]
    }
   ],
   "source": [
    "list(fav_birds.values())\n",
    "\n",
    "fav_birds[\"Winter\"]=\"Avocet\"\n",
    "\n",
    "fav_birds[\"Autumn\"]=[\"wheatear\", \"little plover\"]\n",
    "\n",
    "print(fav_birds)\n",
    "\n",
    "print(\"Winter\" in fav_birds)"
   ]
  },
  {
   "cell_type": "code",
   "execution_count": null,
   "id": "b3fd65ea",
   "metadata": {},
   "outputs": [],
   "source": [
    "# pandas\n",
    "\n",
    "import pandas as pd #importing pandas with the alias pd"
   ]
  }
 ],
 "metadata": {
  "kernelspec": {
   "display_name": "Python 3",
   "language": "python",
   "name": "python3"
  },
  "language_info": {
   "codemirror_mode": {
    "name": "ipython",
    "version": 3
   },
   "file_extension": ".py",
   "mimetype": "text/x-python",
   "name": "python",
   "nbconvert_exporter": "python",
   "pygments_lexer": "ipython3",
   "version": "3.14.0"
  }
 },
 "nbformat": 4,
 "nbformat_minor": 5
}
