{
 "cells": [
  {
   "cell_type": "code",
   "execution_count": null,
   "id": "a7371a9a",
   "metadata": {},
   "outputs": [
    {
     "data": {
      "text/plain": [
       "str"
      ]
     },
     "execution_count": 24,
     "metadata": {},
     "output_type": "execute_result"
    }
   ],
   "source": [
    "#learning\n",
    "\n",
    "num_1 = 5 #int, integer\n",
    "\n",
    "num_2 = 10.2 #float\n",
    "\n",
    "answer = num_1 * num_2\n",
    "\n",
    "var_1 = 'william' #str, string\n",
    "\n",
    "answer_str = str(answer) #casting as \n",
    "\n",
    "type(answer_str)"
   ]
  },
  {
   "cell_type": "code",
   "execution_count": null,
   "id": "4ba6531c",
   "metadata": {},
   "outputs": [
    {
     "name": "stdout",
     "output_type": "stream",
     "text": [
      "150\n"
     ]
    }
   ],
   "source": [
    "#exercise 1\n",
    "\n",
    "num1 = 10\n",
    "num2 = 15\n",
    "\n",
    "answer = num1 * num2\n",
    "\n",
    "print(answer)"
   ]
  },
  {
   "cell_type": "code",
   "execution_count": null,
   "id": "35ac7a0e",
   "metadata": {},
   "outputs": [
    {
     "data": {
      "text/plain": [
       "12.56"
      ]
     },
     "execution_count": 26,
     "metadata": {},
     "output_type": "execute_result"
    }
   ],
   "source": [
    "#exercise 2\n",
    "\n",
    "radius = 2\n",
    "pi = 3.14\n",
    "\n",
    "area = pi * radius**2\n",
    "\n",
    "area"
   ]
  },
  {
   "cell_type": "code",
   "execution_count": null,
   "id": "78f6975a",
   "metadata": {},
   "outputs": [
    {
     "data": {
      "text/plain": [
       "'Hi, my name is Paul, and I am a Data Analyst'"
      ]
     },
     "execution_count": 4,
     "metadata": {},
     "output_type": "execute_result"
    }
   ],
   "source": [
    "#string formatting\n",
    "\n",
    "name = 'Paul'\n",
    "job = 'Data Analyst'\n",
    "\n",
    "name_job = f\"Hi, my name is {name}, and I am a {job}\" #f string for formatting data\n",
    "\n",
    "name_job"
   ]
  },
  {
   "cell_type": "code",
   "execution_count": null,
   "id": "048cf11d",
   "metadata": {},
   "outputs": [
    {
     "ename": "NameError",
     "evalue": "name 'name_job' is not defined",
     "output_type": "error",
     "traceback": [
      "\u001b[31m---------------------------------------------------------------------------\u001b[39m",
      "\u001b[31mNameError\u001b[39m                                 Traceback (most recent call last)",
      "\u001b[36mCell\u001b[39m\u001b[36m \u001b[39m\u001b[32mIn[3]\u001b[39m\u001b[32m, line 1\u001b[39m\n\u001b[32m----> \u001b[39m\u001b[32m1\u001b[39m phrase = \u001b[43mname_job\u001b[49m\n\u001b[32m      3\u001b[39m phrase[-\u001b[32m7\u001b[39m:]\n\u001b[32m      5\u001b[39m \u001b[38;5;66;03m# strings are iterable\u001b[39;00m\n\u001b[32m      6\u001b[39m \u001b[38;5;66;03m# iterable over\u001b[39;00m\n\u001b[32m      7\u001b[39m \u001b[38;5;66;03m# a thing that has parts that can be accessed one at a time\u001b[39;00m\n\u001b[32m      8\u001b[39m \u001b[38;5;66;03m# counting in python starts at 0\u001b[39;00m\n\u001b[32m      9\u001b[39m \u001b[38;5;66;03m# start is inclusive, stop is exclusive\u001b[39;00m\n",
      "\u001b[31mNameError\u001b[39m: name 'name_job' is not defined"
     ]
    }
   ],
   "source": [
    "phrase = name_job\n",
    "\n",
    "phrase[-7:]\n",
    "\n",
    "# strings are iterable\n",
    "# iterable over\n",
    "# a thing that has parts that can be accessed one at a time\n",
    "# counting in python starts at 0\n",
    "# start is inclusive, stop is exclusive\n"
   ]
  }
 ],
 "metadata": {
  "kernelspec": {
   "display_name": "Python 3",
   "language": "python",
   "name": "python3"
  },
  "language_info": {
   "codemirror_mode": {
    "name": "ipython",
    "version": 3
   },
   "file_extension": ".py",
   "mimetype": "text/x-python",
   "name": "python",
   "nbconvert_exporter": "python",
   "pygments_lexer": "ipython3",
   "version": "3.14.0"
  }
 },
 "nbformat": 4,
 "nbformat_minor": 5
}
