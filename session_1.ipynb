{
 "cells": [
  {
   "cell_type": "code",
   "execution_count": 1,
   "id": "a7371a9a",
   "metadata": {},
   "outputs": [
    {
     "data": {
      "text/plain": [
       "str"
      ]
     },
     "execution_count": 1,
     "metadata": {},
     "output_type": "execute_result"
    }
   ],
   "source": [
    "#learning\n",
    "\n",
    "num_1 = 5 #int, integer\n",
    "\n",
    "num_2 = 10.2 #float\n",
    "\n",
    "answer = num_1 * num_2\n",
    "\n",
    "var_1 = 'william' #str, string\n",
    "\n",
    "answer_str = str(answer) #casting as \n",
    "\n",
    "type(answer_str)"
   ]
  },
  {
   "cell_type": "code",
   "execution_count": 2,
   "id": "4ba6531c",
   "metadata": {},
   "outputs": [
    {
     "name": "stdout",
     "output_type": "stream",
     "text": [
      "150\n"
     ]
    }
   ],
   "source": [
    "#exercise 1\n",
    "\n",
    "num1 = 10\n",
    "num2 = 15\n",
    "\n",
    "answer = num1 * num2\n",
    "\n",
    "print(answer)"
   ]
  },
  {
   "cell_type": "code",
   "execution_count": 3,
   "id": "35ac7a0e",
   "metadata": {},
   "outputs": [
    {
     "data": {
      "text/plain": [
       "12.56"
      ]
     },
     "execution_count": 3,
     "metadata": {},
     "output_type": "execute_result"
    }
   ],
   "source": [
    "#exercise 2\n",
    "\n",
    "radius = 2\n",
    "pi = 3.14\n",
    "\n",
    "area = pi * radius**2\n",
    "\n",
    "area"
   ]
  },
  {
   "cell_type": "code",
   "execution_count": 4,
   "id": "78f6975a",
   "metadata": {},
   "outputs": [
    {
     "data": {
      "text/plain": [
       "'Hi, my name is Paul, and I am a Data Analyst'"
      ]
     },
     "execution_count": 4,
     "metadata": {},
     "output_type": "execute_result"
    }
   ],
   "source": [
    "#string formatting\n",
    "\n",
    "name = 'Paul'\n",
    "job = 'Data Analyst'\n",
    "\n",
    "name_job = f\"Hi, my name is {name}, and I am a {job}\" #f string for formatting data\n",
    "\n",
    "name_job"
   ]
  },
  {
   "cell_type": "code",
   "execution_count": 5,
   "id": "048cf11d",
   "metadata": {},
   "outputs": [
    {
     "data": {
      "text/plain": [
       "'Analyst'"
      ]
     },
     "execution_count": 5,
     "metadata": {},
     "output_type": "execute_result"
    }
   ],
   "source": [
    "phrase = name_job\n",
    "\n",
    "phrase[-7:]\n",
    "\n",
    "# strings are iterable\n",
    "# iterable over\n",
    "# a thing that has parts that can be accessed one at a time\n",
    "# counting in python starts at 0\n",
    "# start is inclusive, stop is exclusive\n"
   ]
  }
 ],
 "metadata": {
  "kernelspec": {
   "display_name": "Python 3",
   "language": "python",
   "name": "python3"
  },
  "language_info": {
   "codemirror_mode": {
    "name": "ipython",
    "version": 3
   },
   "file_extension": ".py",
   "mimetype": "text/x-python",
   "name": "python",
   "nbconvert_exporter": "python",
   "pygments_lexer": "ipython3",
   "version": "3.14.0"
  }
 },
 "nbformat": 4,
 "nbformat_minor": 5
}
